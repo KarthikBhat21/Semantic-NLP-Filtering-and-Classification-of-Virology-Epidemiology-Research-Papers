{
 "cells": [
  {
   "cell_type": "code",
   "execution_count": 5,
   "metadata": {},
   "outputs": [],
   "source": [
    "import numpy as np\n",
    "import pandas as pd\n",
    "from sentence_transformers import SentenceTransformer, util\n",
    "from sklearn.metrics.pairwise import cosine_similarity"
   ]
  },
  {
   "cell_type": "code",
   "execution_count": 6,
   "metadata": {},
   "outputs": [],
   "source": [
    "# Function to compute cosine similarity between two embeddings\n",
    "\n",
    "def compute_similarity(paper_embedding, keyword_embeddings):\n",
    "    similarities = cosine_similarity([paper_embedding], keyword_embeddings)\n",
    "    return similarities.max()  # Return the maximum similarity"
   ]
  },
  {
   "cell_type": "code",
   "execution_count": 7,
   "metadata": {},
   "outputs": [],
   "source": [
    "# Function to get combined embedding of mean, min, max and then take mean of these\n",
    "\n",
    "def get_long_text_embedding(text, model, chunk_size=200):\n",
    "    # Split text into chunks\n",
    "    words = text.split()\n",
    "    chunks = [\" \".join(words[i:i+chunk_size]) for i in range(0, len(words), chunk_size)]\n",
    "    \n",
    "    # Generate embeddings for each chunk\n",
    "    chunk_embeddings = [model.encode(chunk) for chunk in chunks]\n",
    "    chunk_embeddings = np.vstack(chunk_embeddings)\n",
    "    \n",
    "    # Calculate mean, max, and min embeddings\n",
    "    mean_embedding = np.mean(chunk_embeddings, axis=0)\n",
    "    max_embedding = np.max(chunk_embeddings, axis=0)\n",
    "    min_embedding = np.min(chunk_embeddings, axis=0)\n",
    "    \n",
    "    # Take the mean of [mean_embedding, max_embedding, min_embedding]\n",
    "    combined_embedding = np.mean([mean_embedding, max_embedding, min_embedding], axis=0)\n",
    "    return combined_embedding"
   ]
  }
 ],
 "metadata": {
  "kernelspec": {
   "display_name": "Python 3",
   "language": "python",
   "name": "python3"
  },
  "language_info": {
   "codemirror_mode": {
    "name": "ipython",
    "version": 3
   },
   "file_extension": ".py",
   "mimetype": "text/x-python",
   "name": "python",
   "nbconvert_exporter": "python",
   "pygments_lexer": "ipython3",
   "version": "3.10.0"
  }
 },
 "nbformat": 4,
 "nbformat_minor": 2
}
