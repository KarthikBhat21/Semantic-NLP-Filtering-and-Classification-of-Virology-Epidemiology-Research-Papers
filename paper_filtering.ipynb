{
 "cells": [
  {
   "cell_type": "code",
   "execution_count": 23,
   "metadata": {},
   "outputs": [],
   "source": [
    "import numpy as np\n",
    "import pandas as pd\n",
    "from sentence_transformers import SentenceTransformer, util\n",
    "from sklearn.metrics.pairwise import cosine_similarity\n",
    "import re\n",
    "\n",
    "pd.pandas.set_option('display.max_columns', None)"
   ]
  },
  {
   "cell_type": "code",
   "execution_count": 24,
   "metadata": {},
   "outputs": [],
   "source": [
    "dataset = pd.read_csv(\"preprocessed_data.csv\")"
   ]
  },
  {
   "cell_type": "code",
   "execution_count": 25,
   "metadata": {},
   "outputs": [
    {
     "data": {
      "text/html": [
       "<div>\n",
       "<style scoped>\n",
       "    .dataframe tbody tr th:only-of-type {\n",
       "        vertical-align: middle;\n",
       "    }\n",
       "\n",
       "    .dataframe tbody tr th {\n",
       "        vertical-align: top;\n",
       "    }\n",
       "\n",
       "    .dataframe thead th {\n",
       "        text-align: right;\n",
       "    }\n",
       "</style>\n",
       "<table border=\"1\" class=\"dataframe\">\n",
       "  <thead>\n",
       "    <tr style=\"text-align: right;\">\n",
       "      <th></th>\n",
       "      <th>pmid</th>\n",
       "      <th>title</th>\n",
       "      <th>authors</th>\n",
       "      <th>citation</th>\n",
       "      <th>first_author</th>\n",
       "      <th>journal/book</th>\n",
       "      <th>publication_year</th>\n",
       "      <th>create_date</th>\n",
       "      <th>pmcid</th>\n",
       "      <th>nihms_id</th>\n",
       "      <th>doi</th>\n",
       "      <th>abstract</th>\n",
       "    </tr>\n",
       "  </thead>\n",
       "  <tbody>\n",
       "    <tr>\n",
       "      <th>0</th>\n",
       "      <td>39435445</td>\n",
       "      <td>Editorial: The operationalization of cognitive...</td>\n",
       "      <td>Winter M, Probst T, Tallon M, Schobel J, Pryss R.</td>\n",
       "      <td>Front Neurosci. 2024 Oct 7;18:1501636. doi: 10...</td>\n",
       "      <td>Winter M</td>\n",
       "      <td>Front Neurosci</td>\n",
       "      <td>2024</td>\n",
       "      <td>2024/10/22</td>\n",
       "      <td>PMC11491427</td>\n",
       "      <td>Unavailable</td>\n",
       "      <td>10.3389/fnins.2024.1501636</td>\n",
       "      <td>Unavailable</td>\n",
       "    </tr>\n",
       "    <tr>\n",
       "      <th>1</th>\n",
       "      <td>39398866</td>\n",
       "      <td>Characterization of arteriosclerosis based on ...</td>\n",
       "      <td>Zhou J, Li X, Demeke D, Dinh TA, Yang Y, Janow...</td>\n",
       "      <td>J Med Imaging (Bellingham). 2024 Sep;11(5):057...</td>\n",
       "      <td>Zhou J</td>\n",
       "      <td>J Med Imaging (Bellingham)</td>\n",
       "      <td>2024</td>\n",
       "      <td>2024/10/14</td>\n",
       "      <td>PMC11466048</td>\n",
       "      <td>Unavailable</td>\n",
       "      <td>10.1117/1.JMI.11.5.057501</td>\n",
       "      <td>PURPOSE: Our purpose is to develop a computer ...</td>\n",
       "    </tr>\n",
       "    <tr>\n",
       "      <th>2</th>\n",
       "      <td>39390053</td>\n",
       "      <td>Multi-scale input layers and dense decoder agg...</td>\n",
       "      <td>Lan X, Jin W.</td>\n",
       "      <td>Sci Rep. 2024 Oct 10;14(1):23729. doi: 10.1038...</td>\n",
       "      <td>Lan X</td>\n",
       "      <td>Sci Rep</td>\n",
       "      <td>2024</td>\n",
       "      <td>2024/10/10</td>\n",
       "      <td>PMC11467340</td>\n",
       "      <td>Unavailable</td>\n",
       "      <td>10.1038/s41598-024-74701-0</td>\n",
       "      <td>Accurate segmentation of COVID-19 lesions from...</td>\n",
       "    </tr>\n",
       "    <tr>\n",
       "      <th>3</th>\n",
       "      <td>39367648</td>\n",
       "      <td>An initial game-theoretic assessment of enhanc...</td>\n",
       "      <td>Fatemi MY, Lu Y, Diallo AB, Srinivasan G, Azhe...</td>\n",
       "      <td>Brief Bioinform. 2024 Sep 23;25(6):bbae476. do...</td>\n",
       "      <td>Fatemi MY</td>\n",
       "      <td>Brief Bioinform</td>\n",
       "      <td>2024</td>\n",
       "      <td>2024/10/05</td>\n",
       "      <td>PMC11452536</td>\n",
       "      <td>Unavailable</td>\n",
       "      <td>10.1093/bib/bbae476</td>\n",
       "      <td>The application of deep learning to spatial tr...</td>\n",
       "    </tr>\n",
       "    <tr>\n",
       "      <th>4</th>\n",
       "      <td>39363262</td>\n",
       "      <td>Truncated M13 phage for smart detection of E. ...</td>\n",
       "      <td>Yuan J, Zhu H, Li S, Thierry B, Yang CT, Zhang...</td>\n",
       "      <td>J Nanobiotechnology. 2024 Oct 3;22(1):599. doi...</td>\n",
       "      <td>Yuan J</td>\n",
       "      <td>J Nanobiotechnology</td>\n",
       "      <td>2024</td>\n",
       "      <td>2024/10/04</td>\n",
       "      <td>PMC11451008</td>\n",
       "      <td>Unavailable</td>\n",
       "      <td>10.1186/s12951-024-02881-y</td>\n",
       "      <td>BACKGROUND: The urgent need for affordable and...</td>\n",
       "    </tr>\n",
       "  </tbody>\n",
       "</table>\n",
       "</div>"
      ],
      "text/plain": [
       "       pmid                                              title  \\\n",
       "0  39435445  Editorial: The operationalization of cognitive...   \n",
       "1  39398866  Characterization of arteriosclerosis based on ...   \n",
       "2  39390053  Multi-scale input layers and dense decoder agg...   \n",
       "3  39367648  An initial game-theoretic assessment of enhanc...   \n",
       "4  39363262  Truncated M13 phage for smart detection of E. ...   \n",
       "\n",
       "                                             authors  \\\n",
       "0  Winter M, Probst T, Tallon M, Schobel J, Pryss R.   \n",
       "1  Zhou J, Li X, Demeke D, Dinh TA, Yang Y, Janow...   \n",
       "2                                      Lan X, Jin W.   \n",
       "3  Fatemi MY, Lu Y, Diallo AB, Srinivasan G, Azhe...   \n",
       "4  Yuan J, Zhu H, Li S, Thierry B, Yang CT, Zhang...   \n",
       "\n",
       "                                            citation first_author  \\\n",
       "0  Front Neurosci. 2024 Oct 7;18:1501636. doi: 10...     Winter M   \n",
       "1  J Med Imaging (Bellingham). 2024 Sep;11(5):057...       Zhou J   \n",
       "2  Sci Rep. 2024 Oct 10;14(1):23729. doi: 10.1038...        Lan X   \n",
       "3  Brief Bioinform. 2024 Sep 23;25(6):bbae476. do...    Fatemi MY   \n",
       "4  J Nanobiotechnology. 2024 Oct 3;22(1):599. doi...       Yuan J   \n",
       "\n",
       "                 journal/book  publication_year create_date        pmcid  \\\n",
       "0              Front Neurosci              2024  2024/10/22  PMC11491427   \n",
       "1  J Med Imaging (Bellingham)              2024  2024/10/14  PMC11466048   \n",
       "2                     Sci Rep              2024  2024/10/10  PMC11467340   \n",
       "3             Brief Bioinform              2024  2024/10/05  PMC11452536   \n",
       "4         J Nanobiotechnology              2024  2024/10/04  PMC11451008   \n",
       "\n",
       "      nihms_id                         doi  \\\n",
       "0  Unavailable  10.3389/fnins.2024.1501636   \n",
       "1  Unavailable   10.1117/1.JMI.11.5.057501   \n",
       "2  Unavailable  10.1038/s41598-024-74701-0   \n",
       "3  Unavailable         10.1093/bib/bbae476   \n",
       "4  Unavailable  10.1186/s12951-024-02881-y   \n",
       "\n",
       "                                            abstract  \n",
       "0                                        Unavailable  \n",
       "1  PURPOSE: Our purpose is to develop a computer ...  \n",
       "2  Accurate segmentation of COVID-19 lesions from...  \n",
       "3  The application of deep learning to spatial tr...  \n",
       "4  BACKGROUND: The urgent need for affordable and...  "
      ]
     },
     "execution_count": 25,
     "metadata": {},
     "output_type": "execute_result"
    }
   ],
   "source": [
    "dataset.head()"
   ]
  },
  {
   "cell_type": "markdown",
   "metadata": {},
   "source": [
    "# Task 1\n",
    "\n",
    "The pretrained sentence transformer \"all-MiniLM-L6-v2\" is used as a semantic natural language processing technique to filter out papers that do not meet the criteria of utilizing deep learning approaches in virology/epidemiology. The \"all-MiniLM-L6-v2\" model is lightweight because it is a smaller transformer-based model optimized for speed and efficiency, designed to work well for generating embeddings in a resource-friendly manner.\n",
    "\n",
    "Approach used to filter the relevant papers:\n",
    "\n",
    "1.  Generate the embeddings of keywords (used while collecting the original dataset from PubMed Central (PMC) database).\n",
    "2.  Generate the embeddings of titles and abstract (combined) for each row.\n",
    "3.  Compare the embeddings of papers and keywords using cosine similarity.\n",
    "4.  If the similarity score is greater than the threshold, then that specific paper is deemed as relevant."
   ]
  },
  {
   "cell_type": "code",
   "execution_count": 26,
   "metadata": {},
   "outputs": [],
   "source": [
    "# Initialize the SentenceTransformer model\n",
    "\n",
    "model = SentenceTransformer('all-MiniLM-L6-v2')"
   ]
  },
  {
   "cell_type": "code",
   "execution_count": 27,
   "metadata": {},
   "outputs": [],
   "source": [
    "# Create embeddings for deep learning-related keywords\n",
    "\n",
    "keywords = [\"virology\", \"epidemiology\", \"neural network\", \"artificial neural network\", \"machine learning model\", \"feedforward neural network\", \"neural net algorithm\", \"multilayer perceptron\", \"convolutional neural network\", \"recurrent neural network\", \"long short-term memory network\", \"cnn\", \"grnn\", \"rnn\", \"lstm\", \"deep learning\", \"deep neural networks\", \"computer vision\", \"vision model\", \"image processing\", \"vision algorithms\", \"computer graphics and vision\", \"object recognition\", \"scene understanding\", \"natural language processing\", \"text mining\", \"nlp\", \"computational linguistics\", \"language processing\", \"text analytics\", \"textual data analysis\", \"text data analysis\", \"text analysis\", \"speech and language technology\", \"language modeling\", \"computational semantics\", \"generative artificial intelligence\", \"generative ai\", \"generative deep learning\", \"generative models\", \"transformer models\", \"self-attention models\", \"transformer architecture\", \"transformer\", \"attention-based neural networks\", \"transformer networks\", \"sequence-to-sequence models\", \"large language model\", \"llm\", \"transformer-based model\", \"pretrained language model\", \"generative language model\", \"foundation model\", \"state-of-the-art language model\", \"multimodal model\", \"multimodal neural network\", \"vision transformer\", \"diffusion model\", \"generative diffusion model\", \"diffusion-based generative model\", \"continuous diffusion model\"]"
   ]
  },
  {
   "cell_type": "code",
   "execution_count": 28,
   "metadata": {},
   "outputs": [],
   "source": [
    "# Generate embeddings for each keyword\n",
    "\n",
    "keyword_embeddings = model.encode(keywords)"
   ]
  },
  {
   "cell_type": "code",
   "execution_count": 29,
   "metadata": {},
   "outputs": [
    {
     "data": {
      "text/plain": [
       "array([[-1.40852574e-02,  1.73932258e-02, -1.00297565e-02, ...,\n",
       "        -8.54644999e-02,  8.96995589e-02,  1.44412806e-02],\n",
       "       [ 2.80762706e-02,  4.93878275e-02, -4.09113690e-02, ...,\n",
       "         5.30148318e-05,  8.49230739e-04,  4.48480190e-04],\n",
       "       [-6.44818321e-02, -2.96157189e-02,  3.31570841e-02, ...,\n",
       "         7.31250942e-02,  1.21323708e-02, -6.29288629e-02],\n",
       "       ...,\n",
       "       [ 1.83021219e-03, -1.16974704e-01,  8.30989182e-02, ...,\n",
       "         1.82120893e-02,  7.14613171e-03,  3.86925563e-02],\n",
       "       [-9.83968191e-03, -1.07192129e-01,  7.44549036e-02, ...,\n",
       "         2.45842785e-02,  2.08438430e-02,  3.23861949e-02],\n",
       "       [ 5.45306802e-02, -9.36757103e-02,  1.18466029e-02, ...,\n",
       "         1.08546913e-02,  9.82687902e-03,  9.06553790e-02]], dtype=float32)"
      ]
     },
     "execution_count": 29,
     "metadata": {},
     "output_type": "execute_result"
    }
   ],
   "source": [
    "keyword_embeddings"
   ]
  },
  {
   "cell_type": "code",
   "execution_count": 30,
   "metadata": {},
   "outputs": [],
   "source": [
    "# Function to compute cosine similarity between two embeddings\n",
    "\n",
    "def compute_similarity(paper_embedding, keyword_embeddings):\n",
    "    similarities = cosine_similarity([paper_embedding], keyword_embeddings)\n",
    "    return similarities.max()  # Return the maximum similarity"
   ]
  },
  {
   "cell_type": "markdown",
   "metadata": {},
   "source": [
    "Major disadvantage of SBERT model \"all-MiniLM-L6-v2\":\n",
    "\n",
    "The sentence transformer model \"all-MiniLM-L6-v2\" can handle only 256 tokens and the rest of the text input will be truncated. This truncation leads to loss of data and the transformer will not be able to make proper classification of relevant papers. \n",
    "\n",
    "Solution:\n",
    "\n",
    "To overcome this disadvantage, the input text will be divided into several chunks of 200 tokens each and they will be embedded. The final text embedding will be the mean of the embeddings of these chunks."
   ]
  },
  {
   "cell_type": "code",
   "execution_count": 31,
   "metadata": {},
   "outputs": [],
   "source": [
    "# Function to get combined embedding of mean, min, max and then take mean of these\n",
    "\n",
    "def get_long_text_embedding(text, model, chunk_size=200):\n",
    "    # Split text into chunks\n",
    "    words = text.split()\n",
    "    chunks = [\" \".join(words[i:i+chunk_size]) for i in range(0, len(words), chunk_size)]\n",
    "    \n",
    "    # Generate embeddings for each chunk\n",
    "    chunk_embeddings = [model.encode(chunk) for chunk in chunks]\n",
    "    chunk_embeddings = np.vstack(chunk_embeddings)\n",
    "    \n",
    "    # Calculate mean, max, and min embeddings\n",
    "    mean_embedding = np.mean(chunk_embeddings, axis=0)\n",
    "    max_embedding = np.max(chunk_embeddings, axis=0)\n",
    "    min_embedding = np.min(chunk_embeddings, axis=0)\n",
    "    \n",
    "    # Take the mean of [mean_embedding, max_embedding, min_embedding]\n",
    "    combined_embedding = np.mean([mean_embedding, max_embedding, min_embedding], axis=0)\n",
    "    return combined_embedding"
   ]
  },
  {
   "cell_type": "markdown",
   "metadata": {},
   "source": [
    "Inorder to achieve the filtering and classification of research papers that utilize deep learning approaches in virology/epidemiology, the columns \"title\" and \"abstract\" are very important.\n",
    "\n",
    "Every research paper (each row in the dataset) has a 'title' in the dataset as it has no missing values.\n",
    " \n",
    "If the \"abstract\" is not present in a row, then only title is being considered for classification of papers."
   ]
  },
  {
   "cell_type": "code",
   "execution_count": 32,
   "metadata": {},
   "outputs": [],
   "source": [
    "# Function to filter papers based on cosine similarity\n",
    "def filter_paper(row, keyword_embeddings, model, threshold=0.35):\n",
    "    # Combine Title and Abstract for processing\n",
    "    #print(row['title'] + \" \" + row['abstract'])\n",
    "    # print(row['title'])\n",
    "    # print(row['abstract'])\n",
    "    text = row['title'].lower() + \" \" + row['abstract'].lower()\n",
    "\n",
    "    # Removing newline escape sequences\n",
    "    text = re.sub(r'[\\n]', ' ', text)\n",
    "    \n",
    "    # Get embedding for the combined text (handling long abstracts by chunking)\n",
    "    paper_embedding = get_long_text_embedding(text, model)\n",
    "    \n",
    "    # Compute similarity with all keyword embeddings\n",
    "    similarity = compute_similarity(paper_embedding, keyword_embeddings)\n",
    "    \n",
    "    # If similarity exceeds threshold, keep the paper\n",
    "    return similarity > threshold"
   ]
  },
  {
   "cell_type": "code",
   "execution_count": 33,
   "metadata": {},
   "outputs": [],
   "source": [
    "# Apply filtering to the dataframe\n",
    "\n",
    "dataset['relevant_paper'] = dataset.apply(filter_paper, axis=1, keyword_embeddings=keyword_embeddings, model=model)"
   ]
  },
  {
   "cell_type": "code",
   "execution_count": 34,
   "metadata": {},
   "outputs": [
    {
     "data": {
      "text/plain": [
       "relevant_paper\n",
       "False    7794\n",
       "True     3656\n",
       "Name: count, dtype: int64"
      ]
     },
     "execution_count": 34,
     "metadata": {},
     "output_type": "execute_result"
    }
   ],
   "source": [
    "dataset['relevant_paper'].value_counts()"
   ]
  },
  {
   "cell_type": "code",
   "execution_count": 35,
   "metadata": {},
   "outputs": [],
   "source": [
    "# Filter the relevant papers\n",
    "\n",
    "relevant_papers = dataset[dataset['relevant_paper'] == True].reset_index(drop=True)"
   ]
  },
  {
   "cell_type": "code",
   "execution_count": 37,
   "metadata": {},
   "outputs": [
    {
     "data": {
      "text/html": [
       "<div>\n",
       "<style scoped>\n",
       "    .dataframe tbody tr th:only-of-type {\n",
       "        vertical-align: middle;\n",
       "    }\n",
       "\n",
       "    .dataframe tbody tr th {\n",
       "        vertical-align: top;\n",
       "    }\n",
       "\n",
       "    .dataframe thead th {\n",
       "        text-align: right;\n",
       "    }\n",
       "</style>\n",
       "<table border=\"1\" class=\"dataframe\">\n",
       "  <thead>\n",
       "    <tr style=\"text-align: right;\">\n",
       "      <th></th>\n",
       "      <th>pmid</th>\n",
       "      <th>title</th>\n",
       "      <th>authors</th>\n",
       "      <th>citation</th>\n",
       "      <th>first_author</th>\n",
       "      <th>journal/book</th>\n",
       "      <th>publication_year</th>\n",
       "      <th>create_date</th>\n",
       "      <th>pmcid</th>\n",
       "      <th>nihms_id</th>\n",
       "      <th>doi</th>\n",
       "      <th>abstract</th>\n",
       "      <th>relevant_paper</th>\n",
       "    </tr>\n",
       "  </thead>\n",
       "  <tbody>\n",
       "    <tr>\n",
       "      <th>0</th>\n",
       "      <td>39435445</td>\n",
       "      <td>Editorial: The operationalization of cognitive...</td>\n",
       "      <td>Winter M, Probst T, Tallon M, Schobel J, Pryss R.</td>\n",
       "      <td>Front Neurosci. 2024 Oct 7;18:1501636. doi: 10...</td>\n",
       "      <td>Winter M</td>\n",
       "      <td>Front Neurosci</td>\n",
       "      <td>2024</td>\n",
       "      <td>2024/10/22</td>\n",
       "      <td>PMC11491427</td>\n",
       "      <td>Unavailable</td>\n",
       "      <td>10.3389/fnins.2024.1501636</td>\n",
       "      <td>Unavailable</td>\n",
       "      <td>True</td>\n",
       "    </tr>\n",
       "    <tr>\n",
       "      <th>1</th>\n",
       "      <td>39367648</td>\n",
       "      <td>An initial game-theoretic assessment of enhanc...</td>\n",
       "      <td>Fatemi MY, Lu Y, Diallo AB, Srinivasan G, Azhe...</td>\n",
       "      <td>Brief Bioinform. 2024 Sep 23;25(6):bbae476. do...</td>\n",
       "      <td>Fatemi MY</td>\n",
       "      <td>Brief Bioinform</td>\n",
       "      <td>2024</td>\n",
       "      <td>2024/10/05</td>\n",
       "      <td>PMC11452536</td>\n",
       "      <td>Unavailable</td>\n",
       "      <td>10.1093/bib/bbae476</td>\n",
       "      <td>The application of deep learning to spatial tr...</td>\n",
       "      <td>True</td>\n",
       "    </tr>\n",
       "    <tr>\n",
       "      <th>2</th>\n",
       "      <td>39181806</td>\n",
       "      <td>Cross-modal Transfer Learning Based on an Impr...</td>\n",
       "      <td>Guo S, Chen H, Sheng X, Xiong Y, Wu M, Fischer...</td>\n",
       "      <td>Ultrasound Med Biol. 2024 Nov;50(11):1638-1645...</td>\n",
       "      <td>Guo S</td>\n",
       "      <td>Ultrasound Med Biol</td>\n",
       "      <td>2024</td>\n",
       "      <td>2024/08/24</td>\n",
       "      <td>Unavailable</td>\n",
       "      <td>Unavailable</td>\n",
       "      <td>10.1016/j.ultrasmedbio.2024.06.009</td>\n",
       "      <td>OBJECTIVE: Deep-learning algorithms have been ...</td>\n",
       "      <td>True</td>\n",
       "    </tr>\n",
       "    <tr>\n",
       "      <th>3</th>\n",
       "      <td>39112796</td>\n",
       "      <td>A generalist vision-language foundation model ...</td>\n",
       "      <td>Zhang K, Zhou R, Adhikarla E, Yan Z, Liu Y, Yu...</td>\n",
       "      <td>Nat Med. 2024 Aug 7. doi: 10.1038/s41591-024-0...</td>\n",
       "      <td>Zhang K</td>\n",
       "      <td>Nat Med</td>\n",
       "      <td>2024</td>\n",
       "      <td>2024/08/07</td>\n",
       "      <td>Unavailable</td>\n",
       "      <td>Unavailable</td>\n",
       "      <td>10.1038/s41591-024-03185-2</td>\n",
       "      <td>Traditional biomedical artificial intelligence...</td>\n",
       "      <td>True</td>\n",
       "    </tr>\n",
       "    <tr>\n",
       "      <th>4</th>\n",
       "      <td>39056477</td>\n",
       "      <td>DeepComBat: A statistically motivated, hyperpa...</td>\n",
       "      <td>Hu F, Lucas A, Chen AA, Coleman K, Horng H, Ng...</td>\n",
       "      <td>Hum Brain Mapp. 2024 Aug 1;45(11):e26708. doi:...</td>\n",
       "      <td>Hu F</td>\n",
       "      <td>Hum Brain Mapp</td>\n",
       "      <td>2024</td>\n",
       "      <td>2024/07/26</td>\n",
       "      <td>PMC11273293</td>\n",
       "      <td>Unavailable</td>\n",
       "      <td>10.1002/hbm.26708</td>\n",
       "      <td>Neuroimaging data acquired using multiple scan...</td>\n",
       "      <td>True</td>\n",
       "    </tr>\n",
       "  </tbody>\n",
       "</table>\n",
       "</div>"
      ],
      "text/plain": [
       "       pmid                                              title  \\\n",
       "0  39435445  Editorial: The operationalization of cognitive...   \n",
       "1  39367648  An initial game-theoretic assessment of enhanc...   \n",
       "2  39181806  Cross-modal Transfer Learning Based on an Impr...   \n",
       "3  39112796  A generalist vision-language foundation model ...   \n",
       "4  39056477  DeepComBat: A statistically motivated, hyperpa...   \n",
       "\n",
       "                                             authors  \\\n",
       "0  Winter M, Probst T, Tallon M, Schobel J, Pryss R.   \n",
       "1  Fatemi MY, Lu Y, Diallo AB, Srinivasan G, Azhe...   \n",
       "2  Guo S, Chen H, Sheng X, Xiong Y, Wu M, Fischer...   \n",
       "3  Zhang K, Zhou R, Adhikarla E, Yan Z, Liu Y, Yu...   \n",
       "4  Hu F, Lucas A, Chen AA, Coleman K, Horng H, Ng...   \n",
       "\n",
       "                                            citation first_author  \\\n",
       "0  Front Neurosci. 2024 Oct 7;18:1501636. doi: 10...     Winter M   \n",
       "1  Brief Bioinform. 2024 Sep 23;25(6):bbae476. do...    Fatemi MY   \n",
       "2  Ultrasound Med Biol. 2024 Nov;50(11):1638-1645...        Guo S   \n",
       "3  Nat Med. 2024 Aug 7. doi: 10.1038/s41591-024-0...      Zhang K   \n",
       "4  Hum Brain Mapp. 2024 Aug 1;45(11):e26708. doi:...         Hu F   \n",
       "\n",
       "          journal/book  publication_year create_date        pmcid  \\\n",
       "0       Front Neurosci              2024  2024/10/22  PMC11491427   \n",
       "1      Brief Bioinform              2024  2024/10/05  PMC11452536   \n",
       "2  Ultrasound Med Biol              2024  2024/08/24  Unavailable   \n",
       "3              Nat Med              2024  2024/08/07  Unavailable   \n",
       "4       Hum Brain Mapp              2024  2024/07/26  PMC11273293   \n",
       "\n",
       "      nihms_id                                 doi  \\\n",
       "0  Unavailable          10.3389/fnins.2024.1501636   \n",
       "1  Unavailable                 10.1093/bib/bbae476   \n",
       "2  Unavailable  10.1016/j.ultrasmedbio.2024.06.009   \n",
       "3  Unavailable          10.1038/s41591-024-03185-2   \n",
       "4  Unavailable                   10.1002/hbm.26708   \n",
       "\n",
       "                                            abstract  relevant_paper  \n",
       "0                                        Unavailable            True  \n",
       "1  The application of deep learning to spatial tr...            True  \n",
       "2  OBJECTIVE: Deep-learning algorithms have been ...            True  \n",
       "3  Traditional biomedical artificial intelligence...            True  \n",
       "4  Neuroimaging data acquired using multiple scan...            True  "
      ]
     },
     "execution_count": 37,
     "metadata": {},
     "output_type": "execute_result"
    }
   ],
   "source": [
    "relevant_papers.head()"
   ]
  },
  {
   "cell_type": "code",
   "execution_count": null,
   "metadata": {},
   "outputs": [],
   "source": [
    "# Save the filtered papers\n",
    "\n",
    "relevant_papers.to_csv('filtered_papers.csv', index=False)"
   ]
  },
  {
   "cell_type": "code",
   "execution_count": 39,
   "metadata": {},
   "outputs": [
    {
     "name": "stdout",
     "output_type": "stream",
     "text": [
      "Number of relevant papers: 3656\n"
     ]
    }
   ],
   "source": [
    "print(f\"Number of relevant papers: {len(relevant_papers)}\")"
   ]
  }
 ],
 "metadata": {
  "kernelspec": {
   "display_name": "Python 3",
   "language": "python",
   "name": "python3"
  },
  "language_info": {
   "codemirror_mode": {
    "name": "ipython",
    "version": 3
   },
   "file_extension": ".py",
   "mimetype": "text/x-python",
   "name": "python",
   "nbconvert_exporter": "python",
   "pygments_lexer": "ipython3",
   "version": "3.10.0"
  }
 },
 "nbformat": 4,
 "nbformat_minor": 2
}
