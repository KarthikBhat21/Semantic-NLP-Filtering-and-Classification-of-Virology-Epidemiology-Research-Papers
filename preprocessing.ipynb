{
 "cells": [
  {
   "cell_type": "code",
   "execution_count": 19,
   "metadata": {},
   "outputs": [],
   "source": [
    "import numpy as np\n",
    "import pandas as pd\n",
    "from sentence_transformers import SentenceTransformer, util\n",
    "from sklearn.metrics.pairwise import cosine_similarity\n",
    "import re\n",
    "\n",
    "pd.pandas.set_option('display.max_columns', None)"
   ]
  },
  {
   "cell_type": "code",
   "execution_count": 20,
   "metadata": {},
   "outputs": [],
   "source": [
    "dataset = pd.read_csv(\"data\\collection_with_abstracts.csv\")"
   ]
  },
  {
   "cell_type": "code",
   "execution_count": 21,
   "metadata": {},
   "outputs": [
    {
     "data": {
      "text/html": [
       "<div>\n",
       "<style scoped>\n",
       "    .dataframe tbody tr th:only-of-type {\n",
       "        vertical-align: middle;\n",
       "    }\n",
       "\n",
       "    .dataframe tbody tr th {\n",
       "        vertical-align: top;\n",
       "    }\n",
       "\n",
       "    .dataframe thead th {\n",
       "        text-align: right;\n",
       "    }\n",
       "</style>\n",
       "<table border=\"1\" class=\"dataframe\">\n",
       "  <thead>\n",
       "    <tr style=\"text-align: right;\">\n",
       "      <th></th>\n",
       "      <th>PMID</th>\n",
       "      <th>Title</th>\n",
       "      <th>Authors</th>\n",
       "      <th>Citation</th>\n",
       "      <th>First Author</th>\n",
       "      <th>Journal/Book</th>\n",
       "      <th>Publication Year</th>\n",
       "      <th>Create Date</th>\n",
       "      <th>PMCID</th>\n",
       "      <th>NIHMS ID</th>\n",
       "      <th>DOI</th>\n",
       "      <th>Abstract</th>\n",
       "    </tr>\n",
       "  </thead>\n",
       "  <tbody>\n",
       "    <tr>\n",
       "      <th>0</th>\n",
       "      <td>39435445</td>\n",
       "      <td>Editorial: The operationalization of cognitive...</td>\n",
       "      <td>Winter M, Probst T, Tallon M, Schobel J, Pryss R.</td>\n",
       "      <td>Front Neurosci. 2024 Oct 7;18:1501636. doi: 10...</td>\n",
       "      <td>Winter M</td>\n",
       "      <td>Front Neurosci</td>\n",
       "      <td>2024</td>\n",
       "      <td>2024/10/22</td>\n",
       "      <td>PMC11491427</td>\n",
       "      <td>NaN</td>\n",
       "      <td>10.3389/fnins.2024.1501636</td>\n",
       "      <td>NaN</td>\n",
       "    </tr>\n",
       "    <tr>\n",
       "      <th>1</th>\n",
       "      <td>39398866</td>\n",
       "      <td>Characterization of arteriosclerosis based on ...</td>\n",
       "      <td>Zhou J, Li X, Demeke D, Dinh TA, Yang Y, Janow...</td>\n",
       "      <td>J Med Imaging (Bellingham). 2024 Sep;11(5):057...</td>\n",
       "      <td>Zhou J</td>\n",
       "      <td>J Med Imaging (Bellingham)</td>\n",
       "      <td>2024</td>\n",
       "      <td>2024/10/14</td>\n",
       "      <td>PMC11466048</td>\n",
       "      <td>NaN</td>\n",
       "      <td>10.1117/1.JMI.11.5.057501</td>\n",
       "      <td>PURPOSE: Our purpose is to develop a computer ...</td>\n",
       "    </tr>\n",
       "    <tr>\n",
       "      <th>2</th>\n",
       "      <td>39390053</td>\n",
       "      <td>Multi-scale input layers and dense decoder agg...</td>\n",
       "      <td>Lan X, Jin W.</td>\n",
       "      <td>Sci Rep. 2024 Oct 10;14(1):23729. doi: 10.1038...</td>\n",
       "      <td>Lan X</td>\n",
       "      <td>Sci Rep</td>\n",
       "      <td>2024</td>\n",
       "      <td>2024/10/10</td>\n",
       "      <td>PMC11467340</td>\n",
       "      <td>NaN</td>\n",
       "      <td>10.1038/s41598-024-74701-0</td>\n",
       "      <td>Accurate segmentation of COVID-19 lesions from...</td>\n",
       "    </tr>\n",
       "    <tr>\n",
       "      <th>3</th>\n",
       "      <td>39367648</td>\n",
       "      <td>An initial game-theoretic assessment of enhanc...</td>\n",
       "      <td>Fatemi MY, Lu Y, Diallo AB, Srinivasan G, Azhe...</td>\n",
       "      <td>Brief Bioinform. 2024 Sep 23;25(6):bbae476. do...</td>\n",
       "      <td>Fatemi MY</td>\n",
       "      <td>Brief Bioinform</td>\n",
       "      <td>2024</td>\n",
       "      <td>2024/10/05</td>\n",
       "      <td>PMC11452536</td>\n",
       "      <td>NaN</td>\n",
       "      <td>10.1093/bib/bbae476</td>\n",
       "      <td>The application of deep learning to spatial tr...</td>\n",
       "    </tr>\n",
       "    <tr>\n",
       "      <th>4</th>\n",
       "      <td>39363262</td>\n",
       "      <td>Truncated M13 phage for smart detection of E. ...</td>\n",
       "      <td>Yuan J, Zhu H, Li S, Thierry B, Yang CT, Zhang...</td>\n",
       "      <td>J Nanobiotechnology. 2024 Oct 3;22(1):599. doi...</td>\n",
       "      <td>Yuan J</td>\n",
       "      <td>J Nanobiotechnology</td>\n",
       "      <td>2024</td>\n",
       "      <td>2024/10/04</td>\n",
       "      <td>PMC11451008</td>\n",
       "      <td>NaN</td>\n",
       "      <td>10.1186/s12951-024-02881-y</td>\n",
       "      <td>BACKGROUND: The urgent need for affordable and...</td>\n",
       "    </tr>\n",
       "  </tbody>\n",
       "</table>\n",
       "</div>"
      ],
      "text/plain": [
       "       PMID                                              Title  \\\n",
       "0  39435445  Editorial: The operationalization of cognitive...   \n",
       "1  39398866  Characterization of arteriosclerosis based on ...   \n",
       "2  39390053  Multi-scale input layers and dense decoder agg...   \n",
       "3  39367648  An initial game-theoretic assessment of enhanc...   \n",
       "4  39363262  Truncated M13 phage for smart detection of E. ...   \n",
       "\n",
       "                                             Authors  \\\n",
       "0  Winter M, Probst T, Tallon M, Schobel J, Pryss R.   \n",
       "1  Zhou J, Li X, Demeke D, Dinh TA, Yang Y, Janow...   \n",
       "2                                      Lan X, Jin W.   \n",
       "3  Fatemi MY, Lu Y, Diallo AB, Srinivasan G, Azhe...   \n",
       "4  Yuan J, Zhu H, Li S, Thierry B, Yang CT, Zhang...   \n",
       "\n",
       "                                            Citation First Author  \\\n",
       "0  Front Neurosci. 2024 Oct 7;18:1501636. doi: 10...     Winter M   \n",
       "1  J Med Imaging (Bellingham). 2024 Sep;11(5):057...       Zhou J   \n",
       "2  Sci Rep. 2024 Oct 10;14(1):23729. doi: 10.1038...        Lan X   \n",
       "3  Brief Bioinform. 2024 Sep 23;25(6):bbae476. do...    Fatemi MY   \n",
       "4  J Nanobiotechnology. 2024 Oct 3;22(1):599. doi...       Yuan J   \n",
       "\n",
       "                 Journal/Book  Publication Year Create Date        PMCID  \\\n",
       "0              Front Neurosci              2024  2024/10/22  PMC11491427   \n",
       "1  J Med Imaging (Bellingham)              2024  2024/10/14  PMC11466048   \n",
       "2                     Sci Rep              2024  2024/10/10  PMC11467340   \n",
       "3             Brief Bioinform              2024  2024/10/05  PMC11452536   \n",
       "4         J Nanobiotechnology              2024  2024/10/04  PMC11451008   \n",
       "\n",
       "  NIHMS ID                         DOI  \\\n",
       "0      NaN  10.3389/fnins.2024.1501636   \n",
       "1      NaN   10.1117/1.JMI.11.5.057501   \n",
       "2      NaN  10.1038/s41598-024-74701-0   \n",
       "3      NaN         10.1093/bib/bbae476   \n",
       "4      NaN  10.1186/s12951-024-02881-y   \n",
       "\n",
       "                                            Abstract  \n",
       "0                                                NaN  \n",
       "1  PURPOSE: Our purpose is to develop a computer ...  \n",
       "2  Accurate segmentation of COVID-19 lesions from...  \n",
       "3  The application of deep learning to spatial tr...  \n",
       "4  BACKGROUND: The urgent need for affordable and...  "
      ]
     },
     "execution_count": 21,
     "metadata": {},
     "output_type": "execute_result"
    }
   ],
   "source": [
    "dataset.head()"
   ]
  },
  {
   "cell_type": "code",
   "execution_count": 22,
   "metadata": {},
   "outputs": [
    {
     "data": {
      "text/plain": [
       "(11450, 12)"
      ]
     },
     "execution_count": 22,
     "metadata": {},
     "output_type": "execute_result"
    }
   ],
   "source": [
    "dataset.shape"
   ]
  },
  {
   "cell_type": "code",
   "execution_count": 23,
   "metadata": {},
   "outputs": [
    {
     "name": "stdout",
     "output_type": "stream",
     "text": [
      "Index(['PMID', 'Title', 'Authors', 'Citation', 'First Author', 'Journal/Book',\n",
      "       'Publication Year', 'Create Date', 'PMCID', 'NIHMS ID', 'DOI',\n",
      "       'Abstract'],\n",
      "      dtype='object')\n"
     ]
    }
   ],
   "source": [
    "print(dataset.columns)"
   ]
  },
  {
   "cell_type": "markdown",
   "metadata": {},
   "source": [
    "# Data Preprocessing"
   ]
  },
  {
   "cell_type": "code",
   "execution_count": 24,
   "metadata": {},
   "outputs": [],
   "source": [
    "# Standardize column names\n",
    "\n",
    "dataset.columns = [col.strip().replace(\" \", \"_\").lower() for col in dataset.columns]"
   ]
  },
  {
   "cell_type": "markdown",
   "metadata": {},
   "source": [
    "Checking for null values"
   ]
  },
  {
   "cell_type": "code",
   "execution_count": 25,
   "metadata": {},
   "outputs": [
    {
     "data": {
      "text/plain": [
       "pmid                    0\n",
       "title                   0\n",
       "authors                 0\n",
       "citation                0\n",
       "first_author            0\n",
       "journal/book            0\n",
       "publication_year        0\n",
       "create_date             0\n",
       "pmcid                5000\n",
       "nihms_id            10494\n",
       "doi                   481\n",
       "abstract              213\n",
       "dtype: int64"
      ]
     },
     "execution_count": 25,
     "metadata": {},
     "output_type": "execute_result"
    }
   ],
   "source": [
    "dataset.isnull().sum()"
   ]
  },
  {
   "cell_type": "code",
   "execution_count": 27,
   "metadata": {},
   "outputs": [],
   "source": [
    "# Filling all the missing values in \"pmcid\", \"nihms_id\" and \"doi\" with the word \"Missing\".\n",
    "\n",
    "dataset[['pmcid', 'nihms_id', 'doi', 'abstract']] = dataset[['pmcid', 'nihms_id', 'doi', 'abstract']].fillna(\"Unavailable\")"
   ]
  },
  {
   "cell_type": "code",
   "execution_count": 28,
   "metadata": {},
   "outputs": [
    {
     "data": {
      "text/plain": [
       "pmid                0\n",
       "title               0\n",
       "authors             0\n",
       "citation            0\n",
       "first_author        0\n",
       "journal/book        0\n",
       "publication_year    0\n",
       "create_date         0\n",
       "pmcid               0\n",
       "nihms_id            0\n",
       "doi                 0\n",
       "abstract            0\n",
       "dtype: int64"
      ]
     },
     "execution_count": 28,
     "metadata": {},
     "output_type": "execute_result"
    }
   ],
   "source": [
    "dataset.isnull().sum()"
   ]
  },
  {
   "cell_type": "code",
   "execution_count": 29,
   "metadata": {},
   "outputs": [
    {
     "data": {
      "text/html": [
       "<div>\n",
       "<style scoped>\n",
       "    .dataframe tbody tr th:only-of-type {\n",
       "        vertical-align: middle;\n",
       "    }\n",
       "\n",
       "    .dataframe tbody tr th {\n",
       "        vertical-align: top;\n",
       "    }\n",
       "\n",
       "    .dataframe thead th {\n",
       "        text-align: right;\n",
       "    }\n",
       "</style>\n",
       "<table border=\"1\" class=\"dataframe\">\n",
       "  <thead>\n",
       "    <tr style=\"text-align: right;\">\n",
       "      <th></th>\n",
       "      <th>pmid</th>\n",
       "      <th>title</th>\n",
       "      <th>authors</th>\n",
       "      <th>citation</th>\n",
       "      <th>first_author</th>\n",
       "      <th>journal/book</th>\n",
       "      <th>publication_year</th>\n",
       "      <th>create_date</th>\n",
       "      <th>pmcid</th>\n",
       "      <th>nihms_id</th>\n",
       "      <th>doi</th>\n",
       "      <th>abstract</th>\n",
       "    </tr>\n",
       "  </thead>\n",
       "  <tbody>\n",
       "    <tr>\n",
       "      <th>0</th>\n",
       "      <td>39435445</td>\n",
       "      <td>Editorial: The operationalization of cognitive...</td>\n",
       "      <td>Winter M, Probst T, Tallon M, Schobel J, Pryss R.</td>\n",
       "      <td>Front Neurosci. 2024 Oct 7;18:1501636. doi: 10...</td>\n",
       "      <td>Winter M</td>\n",
       "      <td>Front Neurosci</td>\n",
       "      <td>2024</td>\n",
       "      <td>2024/10/22</td>\n",
       "      <td>PMC11491427</td>\n",
       "      <td>Unavailable</td>\n",
       "      <td>10.3389/fnins.2024.1501636</td>\n",
       "      <td>Unavailable</td>\n",
       "    </tr>\n",
       "    <tr>\n",
       "      <th>1</th>\n",
       "      <td>39398866</td>\n",
       "      <td>Characterization of arteriosclerosis based on ...</td>\n",
       "      <td>Zhou J, Li X, Demeke D, Dinh TA, Yang Y, Janow...</td>\n",
       "      <td>J Med Imaging (Bellingham). 2024 Sep;11(5):057...</td>\n",
       "      <td>Zhou J</td>\n",
       "      <td>J Med Imaging (Bellingham)</td>\n",
       "      <td>2024</td>\n",
       "      <td>2024/10/14</td>\n",
       "      <td>PMC11466048</td>\n",
       "      <td>Unavailable</td>\n",
       "      <td>10.1117/1.JMI.11.5.057501</td>\n",
       "      <td>PURPOSE: Our purpose is to develop a computer ...</td>\n",
       "    </tr>\n",
       "    <tr>\n",
       "      <th>2</th>\n",
       "      <td>39390053</td>\n",
       "      <td>Multi-scale input layers and dense decoder agg...</td>\n",
       "      <td>Lan X, Jin W.</td>\n",
       "      <td>Sci Rep. 2024 Oct 10;14(1):23729. doi: 10.1038...</td>\n",
       "      <td>Lan X</td>\n",
       "      <td>Sci Rep</td>\n",
       "      <td>2024</td>\n",
       "      <td>2024/10/10</td>\n",
       "      <td>PMC11467340</td>\n",
       "      <td>Unavailable</td>\n",
       "      <td>10.1038/s41598-024-74701-0</td>\n",
       "      <td>Accurate segmentation of COVID-19 lesions from...</td>\n",
       "    </tr>\n",
       "    <tr>\n",
       "      <th>3</th>\n",
       "      <td>39367648</td>\n",
       "      <td>An initial game-theoretic assessment of enhanc...</td>\n",
       "      <td>Fatemi MY, Lu Y, Diallo AB, Srinivasan G, Azhe...</td>\n",
       "      <td>Brief Bioinform. 2024 Sep 23;25(6):bbae476. do...</td>\n",
       "      <td>Fatemi MY</td>\n",
       "      <td>Brief Bioinform</td>\n",
       "      <td>2024</td>\n",
       "      <td>2024/10/05</td>\n",
       "      <td>PMC11452536</td>\n",
       "      <td>Unavailable</td>\n",
       "      <td>10.1093/bib/bbae476</td>\n",
       "      <td>The application of deep learning to spatial tr...</td>\n",
       "    </tr>\n",
       "    <tr>\n",
       "      <th>4</th>\n",
       "      <td>39363262</td>\n",
       "      <td>Truncated M13 phage for smart detection of E. ...</td>\n",
       "      <td>Yuan J, Zhu H, Li S, Thierry B, Yang CT, Zhang...</td>\n",
       "      <td>J Nanobiotechnology. 2024 Oct 3;22(1):599. doi...</td>\n",
       "      <td>Yuan J</td>\n",
       "      <td>J Nanobiotechnology</td>\n",
       "      <td>2024</td>\n",
       "      <td>2024/10/04</td>\n",
       "      <td>PMC11451008</td>\n",
       "      <td>Unavailable</td>\n",
       "      <td>10.1186/s12951-024-02881-y</td>\n",
       "      <td>BACKGROUND: The urgent need for affordable and...</td>\n",
       "    </tr>\n",
       "  </tbody>\n",
       "</table>\n",
       "</div>"
      ],
      "text/plain": [
       "       pmid                                              title  \\\n",
       "0  39435445  Editorial: The operationalization of cognitive...   \n",
       "1  39398866  Characterization of arteriosclerosis based on ...   \n",
       "2  39390053  Multi-scale input layers and dense decoder agg...   \n",
       "3  39367648  An initial game-theoretic assessment of enhanc...   \n",
       "4  39363262  Truncated M13 phage for smart detection of E. ...   \n",
       "\n",
       "                                             authors  \\\n",
       "0  Winter M, Probst T, Tallon M, Schobel J, Pryss R.   \n",
       "1  Zhou J, Li X, Demeke D, Dinh TA, Yang Y, Janow...   \n",
       "2                                      Lan X, Jin W.   \n",
       "3  Fatemi MY, Lu Y, Diallo AB, Srinivasan G, Azhe...   \n",
       "4  Yuan J, Zhu H, Li S, Thierry B, Yang CT, Zhang...   \n",
       "\n",
       "                                            citation first_author  \\\n",
       "0  Front Neurosci. 2024 Oct 7;18:1501636. doi: 10...     Winter M   \n",
       "1  J Med Imaging (Bellingham). 2024 Sep;11(5):057...       Zhou J   \n",
       "2  Sci Rep. 2024 Oct 10;14(1):23729. doi: 10.1038...        Lan X   \n",
       "3  Brief Bioinform. 2024 Sep 23;25(6):bbae476. do...    Fatemi MY   \n",
       "4  J Nanobiotechnology. 2024 Oct 3;22(1):599. doi...       Yuan J   \n",
       "\n",
       "                 journal/book  publication_year create_date        pmcid  \\\n",
       "0              Front Neurosci              2024  2024/10/22  PMC11491427   \n",
       "1  J Med Imaging (Bellingham)              2024  2024/10/14  PMC11466048   \n",
       "2                     Sci Rep              2024  2024/10/10  PMC11467340   \n",
       "3             Brief Bioinform              2024  2024/10/05  PMC11452536   \n",
       "4         J Nanobiotechnology              2024  2024/10/04  PMC11451008   \n",
       "\n",
       "      nihms_id                         doi  \\\n",
       "0  Unavailable  10.3389/fnins.2024.1501636   \n",
       "1  Unavailable   10.1117/1.JMI.11.5.057501   \n",
       "2  Unavailable  10.1038/s41598-024-74701-0   \n",
       "3  Unavailable         10.1093/bib/bbae476   \n",
       "4  Unavailable  10.1186/s12951-024-02881-y   \n",
       "\n",
       "                                            abstract  \n",
       "0                                        Unavailable  \n",
       "1  PURPOSE: Our purpose is to develop a computer ...  \n",
       "2  Accurate segmentation of COVID-19 lesions from...  \n",
       "3  The application of deep learning to spatial tr...  \n",
       "4  BACKGROUND: The urgent need for affordable and...  "
      ]
     },
     "execution_count": 29,
     "metadata": {},
     "output_type": "execute_result"
    }
   ],
   "source": [
    "dataset.head()"
   ]
  },
  {
   "cell_type": "markdown",
   "metadata": {},
   "source": [
    "All the null values has been handled"
   ]
  },
  {
   "cell_type": "code",
   "execution_count": 30,
   "metadata": {},
   "outputs": [],
   "source": [
    "dataset.to_csv(\"preprocessed_data.csv\", index=False)"
   ]
  }
 ],
 "metadata": {
  "kernelspec": {
   "display_name": "Python 3",
   "language": "python",
   "name": "python3"
  },
  "language_info": {
   "codemirror_mode": {
    "name": "ipython",
    "version": 3
   },
   "file_extension": ".py",
   "mimetype": "text/x-python",
   "name": "python",
   "nbconvert_exporter": "python",
   "pygments_lexer": "ipython3",
   "version": "3.10.0"
  }
 },
 "nbformat": 4,
 "nbformat_minor": 2
}
